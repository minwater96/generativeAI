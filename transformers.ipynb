{
  "nbformat": 4,
  "nbformat_minor": 0,
  "metadata": {
    "colab": {
      "provenance": [],
      "gpuType": "T4"
    },
    "kernelspec": {
      "name": "python3",
      "display_name": "Python 3"
    },
    "language_info": {
      "name": "python"
    },
    "accelerator": "GPU",
    "widgets": {
      "application/vnd.jupyter.widget-state+json": {
        "15fbeb9738f140aaaabfffa0021a3ed0": {
          "model_module": "@jupyter-widgets/controls",
          "model_name": "HBoxModel",
          "model_module_version": "1.5.0",
          "state": {
            "_dom_classes": [],
            "_model_module": "@jupyter-widgets/controls",
            "_model_module_version": "1.5.0",
            "_model_name": "HBoxModel",
            "_view_count": null,
            "_view_module": "@jupyter-widgets/controls",
            "_view_module_version": "1.5.0",
            "_view_name": "HBoxView",
            "box_style": "",
            "children": [
              "IPY_MODEL_b8cc3e500f7945b7990bb555058ff57a",
              "IPY_MODEL_6c18c21fc66e44cab19ff8ae1a0608cb",
              "IPY_MODEL_930ad3bf04fb4d269edaf62e63a9100d"
            ],
            "layout": "IPY_MODEL_8b1dbe60937c4c5fabeb289a01126282"
          }
        },
        "b8cc3e500f7945b7990bb555058ff57a": {
          "model_module": "@jupyter-widgets/controls",
          "model_name": "HTMLModel",
          "model_module_version": "1.5.0",
          "state": {
            "_dom_classes": [],
            "_model_module": "@jupyter-widgets/controls",
            "_model_module_version": "1.5.0",
            "_model_name": "HTMLModel",
            "_view_count": null,
            "_view_module": "@jupyter-widgets/controls",
            "_view_module_version": "1.5.0",
            "_view_name": "HTMLView",
            "description": "",
            "description_tooltip": null,
            "layout": "IPY_MODEL_302524ee2b1b43fb87882bb4866895c1",
            "placeholder": "​",
            "style": "IPY_MODEL_9df48e1c451644569f0c0843762947e8",
            "value": "config.json: 100%"
          }
        },
        "6c18c21fc66e44cab19ff8ae1a0608cb": {
          "model_module": "@jupyter-widgets/controls",
          "model_name": "FloatProgressModel",
          "model_module_version": "1.5.0",
          "state": {
            "_dom_classes": [],
            "_model_module": "@jupyter-widgets/controls",
            "_model_module_version": "1.5.0",
            "_model_name": "FloatProgressModel",
            "_view_count": null,
            "_view_module": "@jupyter-widgets/controls",
            "_view_module_version": "1.5.0",
            "_view_name": "ProgressView",
            "bar_style": "success",
            "description": "",
            "description_tooltip": null,
            "layout": "IPY_MODEL_c4402c1da2e44d668a7b2c20409c2495",
            "max": 1000,
            "min": 0,
            "orientation": "horizontal",
            "style": "IPY_MODEL_9dae93869a694ddda67f60f60365991d",
            "value": 1000
          }
        },
        "930ad3bf04fb4d269edaf62e63a9100d": {
          "model_module": "@jupyter-widgets/controls",
          "model_name": "HTMLModel",
          "model_module_version": "1.5.0",
          "state": {
            "_dom_classes": [],
            "_model_module": "@jupyter-widgets/controls",
            "_model_module_version": "1.5.0",
            "_model_name": "HTMLModel",
            "_view_count": null,
            "_view_module": "@jupyter-widgets/controls",
            "_view_module_version": "1.5.0",
            "_view_name": "HTMLView",
            "description": "",
            "description_tooltip": null,
            "layout": "IPY_MODEL_1aa2bf2ce4834ac0a6ace55cb7c7a242",
            "placeholder": "​",
            "style": "IPY_MODEL_218a1a154e684323b9f2a46b7a832453",
            "value": " 1.00k/1.00k [00:00&lt;00:00, 68.7kB/s]"
          }
        },
        "8b1dbe60937c4c5fabeb289a01126282": {
          "model_module": "@jupyter-widgets/base",
          "model_name": "LayoutModel",
          "model_module_version": "1.2.0",
          "state": {
            "_model_module": "@jupyter-widgets/base",
            "_model_module_version": "1.2.0",
            "_model_name": "LayoutModel",
            "_view_count": null,
            "_view_module": "@jupyter-widgets/base",
            "_view_module_version": "1.2.0",
            "_view_name": "LayoutView",
            "align_content": null,
            "align_items": null,
            "align_self": null,
            "border": null,
            "bottom": null,
            "display": null,
            "flex": null,
            "flex_flow": null,
            "grid_area": null,
            "grid_auto_columns": null,
            "grid_auto_flow": null,
            "grid_auto_rows": null,
            "grid_column": null,
            "grid_gap": null,
            "grid_row": null,
            "grid_template_areas": null,
            "grid_template_columns": null,
            "grid_template_rows": null,
            "height": null,
            "justify_content": null,
            "justify_items": null,
            "left": null,
            "margin": null,
            "max_height": null,
            "max_width": null,
            "min_height": null,
            "min_width": null,
            "object_fit": null,
            "object_position": null,
            "order": null,
            "overflow": null,
            "overflow_x": null,
            "overflow_y": null,
            "padding": null,
            "right": null,
            "top": null,
            "visibility": null,
            "width": null
          }
        },
        "302524ee2b1b43fb87882bb4866895c1": {
          "model_module": "@jupyter-widgets/base",
          "model_name": "LayoutModel",
          "model_module_version": "1.2.0",
          "state": {
            "_model_module": "@jupyter-widgets/base",
            "_model_module_version": "1.2.0",
            "_model_name": "LayoutModel",
            "_view_count": null,
            "_view_module": "@jupyter-widgets/base",
            "_view_module_version": "1.2.0",
            "_view_name": "LayoutView",
            "align_content": null,
            "align_items": null,
            "align_self": null,
            "border": null,
            "bottom": null,
            "display": null,
            "flex": null,
            "flex_flow": null,
            "grid_area": null,
            "grid_auto_columns": null,
            "grid_auto_flow": null,
            "grid_auto_rows": null,
            "grid_column": null,
            "grid_gap": null,
            "grid_row": null,
            "grid_template_areas": null,
            "grid_template_columns": null,
            "grid_template_rows": null,
            "height": null,
            "justify_content": null,
            "justify_items": null,
            "left": null,
            "margin": null,
            "max_height": null,
            "max_width": null,
            "min_height": null,
            "min_width": null,
            "object_fit": null,
            "object_position": null,
            "order": null,
            "overflow": null,
            "overflow_x": null,
            "overflow_y": null,
            "padding": null,
            "right": null,
            "top": null,
            "visibility": null,
            "width": null
          }
        },
        "9df48e1c451644569f0c0843762947e8": {
          "model_module": "@jupyter-widgets/controls",
          "model_name": "DescriptionStyleModel",
          "model_module_version": "1.5.0",
          "state": {
            "_model_module": "@jupyter-widgets/controls",
            "_model_module_version": "1.5.0",
            "_model_name": "DescriptionStyleModel",
            "_view_count": null,
            "_view_module": "@jupyter-widgets/base",
            "_view_module_version": "1.2.0",
            "_view_name": "StyleView",
            "description_width": ""
          }
        },
        "c4402c1da2e44d668a7b2c20409c2495": {
          "model_module": "@jupyter-widgets/base",
          "model_name": "LayoutModel",
          "model_module_version": "1.2.0",
          "state": {
            "_model_module": "@jupyter-widgets/base",
            "_model_module_version": "1.2.0",
            "_model_name": "LayoutModel",
            "_view_count": null,
            "_view_module": "@jupyter-widgets/base",
            "_view_module_version": "1.2.0",
            "_view_name": "LayoutView",
            "align_content": null,
            "align_items": null,
            "align_self": null,
            "border": null,
            "bottom": null,
            "display": null,
            "flex": null,
            "flex_flow": null,
            "grid_area": null,
            "grid_auto_columns": null,
            "grid_auto_flow": null,
            "grid_auto_rows": null,
            "grid_column": null,
            "grid_gap": null,
            "grid_row": null,
            "grid_template_areas": null,
            "grid_template_columns": null,
            "grid_template_rows": null,
            "height": null,
            "justify_content": null,
            "justify_items": null,
            "left": null,
            "margin": null,
            "max_height": null,
            "max_width": null,
            "min_height": null,
            "min_width": null,
            "object_fit": null,
            "object_position": null,
            "order": null,
            "overflow": null,
            "overflow_x": null,
            "overflow_y": null,
            "padding": null,
            "right": null,
            "top": null,
            "visibility": null,
            "width": null
          }
        },
        "9dae93869a694ddda67f60f60365991d": {
          "model_module": "@jupyter-widgets/controls",
          "model_name": "ProgressStyleModel",
          "model_module_version": "1.5.0",
          "state": {
            "_model_module": "@jupyter-widgets/controls",
            "_model_module_version": "1.5.0",
            "_model_name": "ProgressStyleModel",
            "_view_count": null,
            "_view_module": "@jupyter-widgets/base",
            "_view_module_version": "1.2.0",
            "_view_name": "StyleView",
            "bar_color": null,
            "description_width": ""
          }
        },
        "1aa2bf2ce4834ac0a6ace55cb7c7a242": {
          "model_module": "@jupyter-widgets/base",
          "model_name": "LayoutModel",
          "model_module_version": "1.2.0",
          "state": {
            "_model_module": "@jupyter-widgets/base",
            "_model_module_version": "1.2.0",
            "_model_name": "LayoutModel",
            "_view_count": null,
            "_view_module": "@jupyter-widgets/base",
            "_view_module_version": "1.2.0",
            "_view_name": "LayoutView",
            "align_content": null,
            "align_items": null,
            "align_self": null,
            "border": null,
            "bottom": null,
            "display": null,
            "flex": null,
            "flex_flow": null,
            "grid_area": null,
            "grid_auto_columns": null,
            "grid_auto_flow": null,
            "grid_auto_rows": null,
            "grid_column": null,
            "grid_gap": null,
            "grid_row": null,
            "grid_template_areas": null,
            "grid_template_columns": null,
            "grid_template_rows": null,
            "height": null,
            "justify_content": null,
            "justify_items": null,
            "left": null,
            "margin": null,
            "max_height": null,
            "max_width": null,
            "min_height": null,
            "min_width": null,
            "object_fit": null,
            "object_position": null,
            "order": null,
            "overflow": null,
            "overflow_x": null,
            "overflow_y": null,
            "padding": null,
            "right": null,
            "top": null,
            "visibility": null,
            "width": null
          }
        },
        "218a1a154e684323b9f2a46b7a832453": {
          "model_module": "@jupyter-widgets/controls",
          "model_name": "DescriptionStyleModel",
          "model_module_version": "1.5.0",
          "state": {
            "_model_module": "@jupyter-widgets/controls",
            "_model_module_version": "1.5.0",
            "_model_name": "DescriptionStyleModel",
            "_view_count": null,
            "_view_module": "@jupyter-widgets/base",
            "_view_module_version": "1.2.0",
            "_view_name": "StyleView",
            "description_width": ""
          }
        },
        "f30b6c0e66e642b8bae67c4ea7e53932": {
          "model_module": "@jupyter-widgets/controls",
          "model_name": "HBoxModel",
          "model_module_version": "1.5.0",
          "state": {
            "_dom_classes": [],
            "_model_module": "@jupyter-widgets/controls",
            "_model_module_version": "1.5.0",
            "_model_name": "HBoxModel",
            "_view_count": null,
            "_view_module": "@jupyter-widgets/controls",
            "_view_module_version": "1.5.0",
            "_view_name": "HBoxView",
            "box_style": "",
            "children": [
              "IPY_MODEL_e286303386a5471cb802d4f2ae1ce222",
              "IPY_MODEL_1f85249d36394d99a579a4d68a58efee",
              "IPY_MODEL_f0554ac1ff8247898f05b4eb7c9b7711"
            ],
            "layout": "IPY_MODEL_bf00839255224d04b8b360e758f3181a"
          }
        },
        "e286303386a5471cb802d4f2ae1ce222": {
          "model_module": "@jupyter-widgets/controls",
          "model_name": "HTMLModel",
          "model_module_version": "1.5.0",
          "state": {
            "_dom_classes": [],
            "_model_module": "@jupyter-widgets/controls",
            "_model_module_version": "1.5.0",
            "_model_name": "HTMLModel",
            "_view_count": null,
            "_view_module": "@jupyter-widgets/controls",
            "_view_module_version": "1.5.0",
            "_view_name": "HTMLView",
            "description": "",
            "description_tooltip": null,
            "layout": "IPY_MODEL_c84ff2fb4bbf4647a4caeb7e903d8ec2",
            "placeholder": "​",
            "style": "IPY_MODEL_5c37009f3cb04919a76be3591ddcba2c",
            "value": "pytorch_model.bin: 100%"
          }
        },
        "1f85249d36394d99a579a4d68a58efee": {
          "model_module": "@jupyter-widgets/controls",
          "model_name": "FloatProgressModel",
          "model_module_version": "1.5.0",
          "state": {
            "_dom_classes": [],
            "_model_module": "@jupyter-widgets/controls",
            "_model_module_version": "1.5.0",
            "_model_name": "FloatProgressModel",
            "_view_count": null,
            "_view_module": "@jupyter-widgets/controls",
            "_view_module_version": "1.5.0",
            "_view_name": "ProgressView",
            "bar_style": "success",
            "description": "",
            "description_tooltip": null,
            "layout": "IPY_MODEL_291bd065eb14485aa0d4ace59cb5b039",
            "max": 513302779,
            "min": 0,
            "orientation": "horizontal",
            "style": "IPY_MODEL_b9aad5696e0149849e5ded9c33af57dc",
            "value": 513302779
          }
        },
        "f0554ac1ff8247898f05b4eb7c9b7711": {
          "model_module": "@jupyter-widgets/controls",
          "model_name": "HTMLModel",
          "model_module_version": "1.5.0",
          "state": {
            "_dom_classes": [],
            "_model_module": "@jupyter-widgets/controls",
            "_model_module_version": "1.5.0",
            "_model_name": "HTMLModel",
            "_view_count": null,
            "_view_module": "@jupyter-widgets/controls",
            "_view_module_version": "1.5.0",
            "_view_name": "HTMLView",
            "description": "",
            "description_tooltip": null,
            "layout": "IPY_MODEL_175285def61e4275a75f6aa5ed86fdab",
            "placeholder": "​",
            "style": "IPY_MODEL_a254082b22d348a4bf5e0ac5af5198d9",
            "value": " 513M/513M [00:06&lt;00:00, 142MB/s]"
          }
        },
        "bf00839255224d04b8b360e758f3181a": {
          "model_module": "@jupyter-widgets/base",
          "model_name": "LayoutModel",
          "model_module_version": "1.2.0",
          "state": {
            "_model_module": "@jupyter-widgets/base",
            "_model_module_version": "1.2.0",
            "_model_name": "LayoutModel",
            "_view_count": null,
            "_view_module": "@jupyter-widgets/base",
            "_view_module_version": "1.2.0",
            "_view_name": "LayoutView",
            "align_content": null,
            "align_items": null,
            "align_self": null,
            "border": null,
            "bottom": null,
            "display": null,
            "flex": null,
            "flex_flow": null,
            "grid_area": null,
            "grid_auto_columns": null,
            "grid_auto_flow": null,
            "grid_auto_rows": null,
            "grid_column": null,
            "grid_gap": null,
            "grid_row": null,
            "grid_template_areas": null,
            "grid_template_columns": null,
            "grid_template_rows": null,
            "height": null,
            "justify_content": null,
            "justify_items": null,
            "left": null,
            "margin": null,
            "max_height": null,
            "max_width": null,
            "min_height": null,
            "min_width": null,
            "object_fit": null,
            "object_position": null,
            "order": null,
            "overflow": null,
            "overflow_x": null,
            "overflow_y": null,
            "padding": null,
            "right": null,
            "top": null,
            "visibility": null,
            "width": null
          }
        },
        "c84ff2fb4bbf4647a4caeb7e903d8ec2": {
          "model_module": "@jupyter-widgets/base",
          "model_name": "LayoutModel",
          "model_module_version": "1.2.0",
          "state": {
            "_model_module": "@jupyter-widgets/base",
            "_model_module_version": "1.2.0",
            "_model_name": "LayoutModel",
            "_view_count": null,
            "_view_module": "@jupyter-widgets/base",
            "_view_module_version": "1.2.0",
            "_view_name": "LayoutView",
            "align_content": null,
            "align_items": null,
            "align_self": null,
            "border": null,
            "bottom": null,
            "display": null,
            "flex": null,
            "flex_flow": null,
            "grid_area": null,
            "grid_auto_columns": null,
            "grid_auto_flow": null,
            "grid_auto_rows": null,
            "grid_column": null,
            "grid_gap": null,
            "grid_row": null,
            "grid_template_areas": null,
            "grid_template_columns": null,
            "grid_template_rows": null,
            "height": null,
            "justify_content": null,
            "justify_items": null,
            "left": null,
            "margin": null,
            "max_height": null,
            "max_width": null,
            "min_height": null,
            "min_width": null,
            "object_fit": null,
            "object_position": null,
            "order": null,
            "overflow": null,
            "overflow_x": null,
            "overflow_y": null,
            "padding": null,
            "right": null,
            "top": null,
            "visibility": null,
            "width": null
          }
        },
        "5c37009f3cb04919a76be3591ddcba2c": {
          "model_module": "@jupyter-widgets/controls",
          "model_name": "DescriptionStyleModel",
          "model_module_version": "1.5.0",
          "state": {
            "_model_module": "@jupyter-widgets/controls",
            "_model_module_version": "1.5.0",
            "_model_name": "DescriptionStyleModel",
            "_view_count": null,
            "_view_module": "@jupyter-widgets/base",
            "_view_module_version": "1.2.0",
            "_view_name": "StyleView",
            "description_width": ""
          }
        },
        "291bd065eb14485aa0d4ace59cb5b039": {
          "model_module": "@jupyter-widgets/base",
          "model_name": "LayoutModel",
          "model_module_version": "1.2.0",
          "state": {
            "_model_module": "@jupyter-widgets/base",
            "_model_module_version": "1.2.0",
            "_model_name": "LayoutModel",
            "_view_count": null,
            "_view_module": "@jupyter-widgets/base",
            "_view_module_version": "1.2.0",
            "_view_name": "LayoutView",
            "align_content": null,
            "align_items": null,
            "align_self": null,
            "border": null,
            "bottom": null,
            "display": null,
            "flex": null,
            "flex_flow": null,
            "grid_area": null,
            "grid_auto_columns": null,
            "grid_auto_flow": null,
            "grid_auto_rows": null,
            "grid_column": null,
            "grid_gap": null,
            "grid_row": null,
            "grid_template_areas": null,
            "grid_template_columns": null,
            "grid_template_rows": null,
            "height": null,
            "justify_content": null,
            "justify_items": null,
            "left": null,
            "margin": null,
            "max_height": null,
            "max_width": null,
            "min_height": null,
            "min_width": null,
            "object_fit": null,
            "object_position": null,
            "order": null,
            "overflow": null,
            "overflow_x": null,
            "overflow_y": null,
            "padding": null,
            "right": null,
            "top": null,
            "visibility": null,
            "width": null
          }
        },
        "b9aad5696e0149849e5ded9c33af57dc": {
          "model_module": "@jupyter-widgets/controls",
          "model_name": "ProgressStyleModel",
          "model_module_version": "1.5.0",
          "state": {
            "_model_module": "@jupyter-widgets/controls",
            "_model_module_version": "1.5.0",
            "_model_name": "ProgressStyleModel",
            "_view_count": null,
            "_view_module": "@jupyter-widgets/base",
            "_view_module_version": "1.2.0",
            "_view_name": "StyleView",
            "bar_color": null,
            "description_width": ""
          }
        },
        "175285def61e4275a75f6aa5ed86fdab": {
          "model_module": "@jupyter-widgets/base",
          "model_name": "LayoutModel",
          "model_module_version": "1.2.0",
          "state": {
            "_model_module": "@jupyter-widgets/base",
            "_model_module_version": "1.2.0",
            "_model_name": "LayoutModel",
            "_view_count": null,
            "_view_module": "@jupyter-widgets/base",
            "_view_module_version": "1.2.0",
            "_view_name": "LayoutView",
            "align_content": null,
            "align_items": null,
            "align_self": null,
            "border": null,
            "bottom": null,
            "display": null,
            "flex": null,
            "flex_flow": null,
            "grid_area": null,
            "grid_auto_columns": null,
            "grid_auto_flow": null,
            "grid_auto_rows": null,
            "grid_column": null,
            "grid_gap": null,
            "grid_row": null,
            "grid_template_areas": null,
            "grid_template_columns": null,
            "grid_template_rows": null,
            "height": null,
            "justify_content": null,
            "justify_items": null,
            "left": null,
            "margin": null,
            "max_height": null,
            "max_width": null,
            "min_height": null,
            "min_width": null,
            "object_fit": null,
            "object_position": null,
            "order": null,
            "overflow": null,
            "overflow_x": null,
            "overflow_y": null,
            "padding": null,
            "right": null,
            "top": null,
            "visibility": null,
            "width": null
          }
        },
        "a254082b22d348a4bf5e0ac5af5198d9": {
          "model_module": "@jupyter-widgets/controls",
          "model_name": "DescriptionStyleModel",
          "model_module_version": "1.5.0",
          "state": {
            "_model_module": "@jupyter-widgets/controls",
            "_model_module_version": "1.5.0",
            "_model_name": "DescriptionStyleModel",
            "_view_count": null,
            "_view_module": "@jupyter-widgets/base",
            "_view_module_version": "1.2.0",
            "_view_name": "StyleView",
            "description_width": ""
          }
        },
        "8b1e4ef993b349df88ab3d0548345fcf": {
          "model_module": "@jupyter-widgets/controls",
          "model_name": "HBoxModel",
          "model_module_version": "1.5.0",
          "state": {
            "_dom_classes": [],
            "_model_module": "@jupyter-widgets/controls",
            "_model_module_version": "1.5.0",
            "_model_name": "HBoxModel",
            "_view_count": null,
            "_view_module": "@jupyter-widgets/controls",
            "_view_module_version": "1.5.0",
            "_view_name": "HBoxView",
            "box_style": "",
            "children": [
              "IPY_MODEL_b73d6f22b8434a589c8da524bfb819d9",
              "IPY_MODEL_784ebb77d2744d2f9b6be374d44cf2f6",
              "IPY_MODEL_2083f00d74744d46909993f573e62935"
            ],
            "layout": "IPY_MODEL_b246e13bb91848dbb10d4175cd3ae41b"
          }
        },
        "b73d6f22b8434a589c8da524bfb819d9": {
          "model_module": "@jupyter-widgets/controls",
          "model_name": "HTMLModel",
          "model_module_version": "1.5.0",
          "state": {
            "_dom_classes": [],
            "_model_module": "@jupyter-widgets/controls",
            "_model_module_version": "1.5.0",
            "_model_name": "HTMLModel",
            "_view_count": null,
            "_view_module": "@jupyter-widgets/controls",
            "_view_module_version": "1.5.0",
            "_view_name": "HTMLView",
            "description": "",
            "description_tooltip": null,
            "layout": "IPY_MODEL_aee0d3f0e89549d380e77a0f460a19cd",
            "placeholder": "​",
            "style": "IPY_MODEL_13fe0f3fde23486192058022a465971d",
            "value": "tokenizer.json: 100%"
          }
        },
        "784ebb77d2744d2f9b6be374d44cf2f6": {
          "model_module": "@jupyter-widgets/controls",
          "model_name": "FloatProgressModel",
          "model_module_version": "1.5.0",
          "state": {
            "_dom_classes": [],
            "_model_module": "@jupyter-widgets/controls",
            "_model_module_version": "1.5.0",
            "_model_name": "FloatProgressModel",
            "_view_count": null,
            "_view_module": "@jupyter-widgets/controls",
            "_view_module_version": "1.5.0",
            "_view_name": "ProgressView",
            "bar_style": "success",
            "description": "",
            "description_tooltip": null,
            "layout": "IPY_MODEL_6aa392ee06434104a66fd2942f1289d4",
            "max": 2825034,
            "min": 0,
            "orientation": "horizontal",
            "style": "IPY_MODEL_10ecbffbf69a457183656e2237abbec7",
            "value": 2825034
          }
        },
        "2083f00d74744d46909993f573e62935": {
          "model_module": "@jupyter-widgets/controls",
          "model_name": "HTMLModel",
          "model_module_version": "1.5.0",
          "state": {
            "_dom_classes": [],
            "_model_module": "@jupyter-widgets/controls",
            "_model_module_version": "1.5.0",
            "_model_name": "HTMLModel",
            "_view_count": null,
            "_view_module": "@jupyter-widgets/controls",
            "_view_module_version": "1.5.0",
            "_view_name": "HTMLView",
            "description": "",
            "description_tooltip": null,
            "layout": "IPY_MODEL_c950d1baec184455a332b65053fe68a7",
            "placeholder": "​",
            "style": "IPY_MODEL_ed2b19678f6e4d7381dcc1eea38f4a61",
            "value": " 2.83M/2.83M [00:00&lt;00:00, 8.72MB/s]"
          }
        },
        "b246e13bb91848dbb10d4175cd3ae41b": {
          "model_module": "@jupyter-widgets/base",
          "model_name": "LayoutModel",
          "model_module_version": "1.2.0",
          "state": {
            "_model_module": "@jupyter-widgets/base",
            "_model_module_version": "1.2.0",
            "_model_name": "LayoutModel",
            "_view_count": null,
            "_view_module": "@jupyter-widgets/base",
            "_view_module_version": "1.2.0",
            "_view_name": "LayoutView",
            "align_content": null,
            "align_items": null,
            "align_self": null,
            "border": null,
            "bottom": null,
            "display": null,
            "flex": null,
            "flex_flow": null,
            "grid_area": null,
            "grid_auto_columns": null,
            "grid_auto_flow": null,
            "grid_auto_rows": null,
            "grid_column": null,
            "grid_gap": null,
            "grid_row": null,
            "grid_template_areas": null,
            "grid_template_columns": null,
            "grid_template_rows": null,
            "height": null,
            "justify_content": null,
            "justify_items": null,
            "left": null,
            "margin": null,
            "max_height": null,
            "max_width": null,
            "min_height": null,
            "min_width": null,
            "object_fit": null,
            "object_position": null,
            "order": null,
            "overflow": null,
            "overflow_x": null,
            "overflow_y": null,
            "padding": null,
            "right": null,
            "top": null,
            "visibility": null,
            "width": null
          }
        },
        "aee0d3f0e89549d380e77a0f460a19cd": {
          "model_module": "@jupyter-widgets/base",
          "model_name": "LayoutModel",
          "model_module_version": "1.2.0",
          "state": {
            "_model_module": "@jupyter-widgets/base",
            "_model_module_version": "1.2.0",
            "_model_name": "LayoutModel",
            "_view_count": null,
            "_view_module": "@jupyter-widgets/base",
            "_view_module_version": "1.2.0",
            "_view_name": "LayoutView",
            "align_content": null,
            "align_items": null,
            "align_self": null,
            "border": null,
            "bottom": null,
            "display": null,
            "flex": null,
            "flex_flow": null,
            "grid_area": null,
            "grid_auto_columns": null,
            "grid_auto_flow": null,
            "grid_auto_rows": null,
            "grid_column": null,
            "grid_gap": null,
            "grid_row": null,
            "grid_template_areas": null,
            "grid_template_columns": null,
            "grid_template_rows": null,
            "height": null,
            "justify_content": null,
            "justify_items": null,
            "left": null,
            "margin": null,
            "max_height": null,
            "max_width": null,
            "min_height": null,
            "min_width": null,
            "object_fit": null,
            "object_position": null,
            "order": null,
            "overflow": null,
            "overflow_x": null,
            "overflow_y": null,
            "padding": null,
            "right": null,
            "top": null,
            "visibility": null,
            "width": null
          }
        },
        "13fe0f3fde23486192058022a465971d": {
          "model_module": "@jupyter-widgets/controls",
          "model_name": "DescriptionStyleModel",
          "model_module_version": "1.5.0",
          "state": {
            "_model_module": "@jupyter-widgets/controls",
            "_model_module_version": "1.5.0",
            "_model_name": "DescriptionStyleModel",
            "_view_count": null,
            "_view_module": "@jupyter-widgets/base",
            "_view_module_version": "1.2.0",
            "_view_name": "StyleView",
            "description_width": ""
          }
        },
        "6aa392ee06434104a66fd2942f1289d4": {
          "model_module": "@jupyter-widgets/base",
          "model_name": "LayoutModel",
          "model_module_version": "1.2.0",
          "state": {
            "_model_module": "@jupyter-widgets/base",
            "_model_module_version": "1.2.0",
            "_model_name": "LayoutModel",
            "_view_count": null,
            "_view_module": "@jupyter-widgets/base",
            "_view_module_version": "1.2.0",
            "_view_name": "LayoutView",
            "align_content": null,
            "align_items": null,
            "align_self": null,
            "border": null,
            "bottom": null,
            "display": null,
            "flex": null,
            "flex_flow": null,
            "grid_area": null,
            "grid_auto_columns": null,
            "grid_auto_flow": null,
            "grid_auto_rows": null,
            "grid_column": null,
            "grid_gap": null,
            "grid_row": null,
            "grid_template_areas": null,
            "grid_template_columns": null,
            "grid_template_rows": null,
            "height": null,
            "justify_content": null,
            "justify_items": null,
            "left": null,
            "margin": null,
            "max_height": null,
            "max_width": null,
            "min_height": null,
            "min_width": null,
            "object_fit": null,
            "object_position": null,
            "order": null,
            "overflow": null,
            "overflow_x": null,
            "overflow_y": null,
            "padding": null,
            "right": null,
            "top": null,
            "visibility": null,
            "width": null
          }
        },
        "10ecbffbf69a457183656e2237abbec7": {
          "model_module": "@jupyter-widgets/controls",
          "model_name": "ProgressStyleModel",
          "model_module_version": "1.5.0",
          "state": {
            "_model_module": "@jupyter-widgets/controls",
            "_model_module_version": "1.5.0",
            "_model_name": "ProgressStyleModel",
            "_view_count": null,
            "_view_module": "@jupyter-widgets/base",
            "_view_module_version": "1.2.0",
            "_view_name": "StyleView",
            "bar_color": null,
            "description_width": ""
          }
        },
        "c950d1baec184455a332b65053fe68a7": {
          "model_module": "@jupyter-widgets/base",
          "model_name": "LayoutModel",
          "model_module_version": "1.2.0",
          "state": {
            "_model_module": "@jupyter-widgets/base",
            "_model_module_version": "1.2.0",
            "_model_name": "LayoutModel",
            "_view_count": null,
            "_view_module": "@jupyter-widgets/base",
            "_view_module_version": "1.2.0",
            "_view_name": "LayoutView",
            "align_content": null,
            "align_items": null,
            "align_self": null,
            "border": null,
            "bottom": null,
            "display": null,
            "flex": null,
            "flex_flow": null,
            "grid_area": null,
            "grid_auto_columns": null,
            "grid_auto_flow": null,
            "grid_auto_rows": null,
            "grid_column": null,
            "grid_gap": null,
            "grid_row": null,
            "grid_template_areas": null,
            "grid_template_columns": null,
            "grid_template_rows": null,
            "height": null,
            "justify_content": null,
            "justify_items": null,
            "left": null,
            "margin": null,
            "max_height": null,
            "max_width": null,
            "min_height": null,
            "min_width": null,
            "object_fit": null,
            "object_position": null,
            "order": null,
            "overflow": null,
            "overflow_x": null,
            "overflow_y": null,
            "padding": null,
            "right": null,
            "top": null,
            "visibility": null,
            "width": null
          }
        },
        "ed2b19678f6e4d7381dcc1eea38f4a61": {
          "model_module": "@jupyter-widgets/controls",
          "model_name": "DescriptionStyleModel",
          "model_module_version": "1.5.0",
          "state": {
            "_model_module": "@jupyter-widgets/controls",
            "_model_module_version": "1.5.0",
            "_model_name": "DescriptionStyleModel",
            "_view_count": null,
            "_view_module": "@jupyter-widgets/base",
            "_view_module_version": "1.2.0",
            "_view_name": "StyleView",
            "description_width": ""
          }
        }
      }
    }
  },
  "cells": [
    {
      "cell_type": "code",
      "execution_count": null,
      "metadata": {
        "colab": {
          "base_uri": "https://localhost:8080/"
        },
        "id": "bpUdVjn-qqiO",
        "outputId": "7a3cb0e6-085c-4c97-8563-db0b27253d72"
      },
      "outputs": [
        {
          "output_type": "stream",
          "name": "stdout",
          "text": [
            "Requirement already satisfied: transformers in /usr/local/lib/python3.10/dist-packages (4.44.2)\n",
            "Requirement already satisfied: filelock in /usr/local/lib/python3.10/dist-packages (from transformers) (3.16.0)\n",
            "Requirement already satisfied: huggingface-hub<1.0,>=0.23.2 in /usr/local/lib/python3.10/dist-packages (from transformers) (0.24.7)\n",
            "Requirement already satisfied: numpy>=1.17 in /usr/local/lib/python3.10/dist-packages (from transformers) (1.26.4)\n",
            "Requirement already satisfied: packaging>=20.0 in /usr/local/lib/python3.10/dist-packages (from transformers) (24.1)\n",
            "Requirement already satisfied: pyyaml>=5.1 in /usr/local/lib/python3.10/dist-packages (from transformers) (6.0.2)\n",
            "Requirement already satisfied: regex!=2019.12.17 in /usr/local/lib/python3.10/dist-packages (from transformers) (2024.9.11)\n",
            "Requirement already satisfied: requests in /usr/local/lib/python3.10/dist-packages (from transformers) (2.32.3)\n",
            "Requirement already satisfied: safetensors>=0.4.1 in /usr/local/lib/python3.10/dist-packages (from transformers) (0.4.5)\n",
            "Requirement already satisfied: tokenizers<0.20,>=0.19 in /usr/local/lib/python3.10/dist-packages (from transformers) (0.19.1)\n",
            "Requirement already satisfied: tqdm>=4.27 in /usr/local/lib/python3.10/dist-packages (from transformers) (4.66.5)\n",
            "Requirement already satisfied: fsspec>=2023.5.0 in /usr/local/lib/python3.10/dist-packages (from huggingface-hub<1.0,>=0.23.2->transformers) (2024.6.1)\n",
            "Requirement already satisfied: typing-extensions>=3.7.4.3 in /usr/local/lib/python3.10/dist-packages (from huggingface-hub<1.0,>=0.23.2->transformers) (4.12.2)\n",
            "Requirement already satisfied: charset-normalizer<4,>=2 in /usr/local/lib/python3.10/dist-packages (from requests->transformers) (3.3.2)\n",
            "Requirement already satisfied: idna<4,>=2.5 in /usr/local/lib/python3.10/dist-packages (from requests->transformers) (3.10)\n",
            "Requirement already satisfied: urllib3<3,>=1.21.1 in /usr/local/lib/python3.10/dist-packages (from requests->transformers) (2.0.7)\n",
            "Requirement already satisfied: certifi>=2017.4.17 in /usr/local/lib/python3.10/dist-packages (from requests->transformers) (2024.8.30)\n"
          ]
        }
      ],
      "source": [
        "!pip install transformers"
      ]
    },
    {
      "cell_type": "code",
      "source": [],
      "metadata": {
        "id": "oRw0bhKI_KGe"
      },
      "execution_count": null,
      "outputs": []
    },
    {
      "cell_type": "code",
      "source": [
        "import os\n",
        "os.environ['HF_HOME'] = '/content/drive/MyDrive/transformers_cache'"
      ],
      "metadata": {
        "id": "X1Jno9mfrTQM"
      },
      "execution_count": null,
      "outputs": []
    },
    {
      "cell_type": "code",
      "source": [
        "import torch\n",
        "device = torch.device('cuda:0')"
      ],
      "metadata": {
        "id": "3lkIvOEtr5xo"
      },
      "execution_count": null,
      "outputs": []
    },
    {
      "cell_type": "code",
      "source": [
        "from transformers import pipeline\n",
        "model_id = 'skt/kogpt2-base-v2'\n",
        "kogpt=pipeline('text-generation', model=model_id, device=device)"
      ],
      "metadata": {
        "colab": {
          "base_uri": "https://localhost:8080/",
          "height": 204,
          "referenced_widgets": [
            "15fbeb9738f140aaaabfffa0021a3ed0",
            "b8cc3e500f7945b7990bb555058ff57a",
            "6c18c21fc66e44cab19ff8ae1a0608cb",
            "930ad3bf04fb4d269edaf62e63a9100d",
            "8b1dbe60937c4c5fabeb289a01126282",
            "302524ee2b1b43fb87882bb4866895c1",
            "9df48e1c451644569f0c0843762947e8",
            "c4402c1da2e44d668a7b2c20409c2495",
            "9dae93869a694ddda67f60f60365991d",
            "1aa2bf2ce4834ac0a6ace55cb7c7a242",
            "218a1a154e684323b9f2a46b7a832453",
            "f30b6c0e66e642b8bae67c4ea7e53932",
            "e286303386a5471cb802d4f2ae1ce222",
            "1f85249d36394d99a579a4d68a58efee",
            "f0554ac1ff8247898f05b4eb7c9b7711",
            "bf00839255224d04b8b360e758f3181a",
            "c84ff2fb4bbf4647a4caeb7e903d8ec2",
            "5c37009f3cb04919a76be3591ddcba2c",
            "291bd065eb14485aa0d4ace59cb5b039",
            "b9aad5696e0149849e5ded9c33af57dc",
            "175285def61e4275a75f6aa5ed86fdab",
            "a254082b22d348a4bf5e0ac5af5198d9",
            "8b1e4ef993b349df88ab3d0548345fcf",
            "b73d6f22b8434a589c8da524bfb819d9",
            "784ebb77d2744d2f9b6be374d44cf2f6",
            "2083f00d74744d46909993f573e62935",
            "b246e13bb91848dbb10d4175cd3ae41b",
            "aee0d3f0e89549d380e77a0f460a19cd",
            "13fe0f3fde23486192058022a465971d",
            "6aa392ee06434104a66fd2942f1289d4",
            "10ecbffbf69a457183656e2237abbec7",
            "c950d1baec184455a332b65053fe68a7",
            "ed2b19678f6e4d7381dcc1eea38f4a61"
          ]
        },
        "id": "m7Pf9ZaDsBsv",
        "outputId": "a20c4375-c69f-493e-da60-1164ea1894ed"
      },
      "execution_count": null,
      "outputs": [
        {
          "output_type": "display_data",
          "data": {
            "text/plain": [
              "config.json:   0%|          | 0.00/1.00k [00:00<?, ?B/s]"
            ],
            "application/vnd.jupyter.widget-view+json": {
              "version_major": 2,
              "version_minor": 0,
              "model_id": "15fbeb9738f140aaaabfffa0021a3ed0"
            }
          },
          "metadata": {}
        },
        {
          "output_type": "stream",
          "name": "stderr",
          "text": [
            "/usr/local/lib/python3.10/dist-packages/huggingface_hub/file_download.py:991: UserWarning: Not enough free disk space to download the file. The expected file size is: 513.30 MB. The target location /content/drive/MyDrive/transformers_cache/hub/models--skt--kogpt2-base-v2/blobs only has 480.92 MB free disk space.\n",
            "  warnings.warn(\n"
          ]
        },
        {
          "output_type": "display_data",
          "data": {
            "text/plain": [
              "pytorch_model.bin:   0%|          | 0.00/513M [00:00<?, ?B/s]"
            ],
            "application/vnd.jupyter.widget-view+json": {
              "version_major": 2,
              "version_minor": 0,
              "model_id": "f30b6c0e66e642b8bae67c4ea7e53932"
            }
          },
          "metadata": {}
        },
        {
          "output_type": "display_data",
          "data": {
            "text/plain": [
              "tokenizer.json:   0%|          | 0.00/2.83M [00:00<?, ?B/s]"
            ],
            "application/vnd.jupyter.widget-view+json": {
              "version_major": 2,
              "version_minor": 0,
              "model_id": "8b1e4ef993b349df88ab3d0548345fcf"
            }
          },
          "metadata": {}
        },
        {
          "output_type": "stream",
          "name": "stderr",
          "text": [
            "/usr/local/lib/python3.10/dist-packages/transformers/tokenization_utils_base.py:1601: FutureWarning: `clean_up_tokenization_spaces` was not set. It will be set to `True` by default. This behavior will be depracted in transformers v4.45, and will be then set to `False` by default. For more details check this issue: https://github.com/huggingface/transformers/issues/31884\n",
            "  warnings.warn(\n"
          ]
        }
      ]
    },
    {
      "cell_type": "code",
      "source": [
        "prompt = '인공지능 발전으로 반도체 수요가'\n",
        "kogpt(prompt)"
      ],
      "metadata": {
        "colab": {
          "base_uri": "https://localhost:8080/"
        },
        "id": "2WZHBjVEsRBS",
        "outputId": "3cad6f4b-4cfa-48f9-c0be-8c0a2eae1a40"
      },
      "execution_count": null,
      "outputs": [
        {
          "output_type": "execute_result",
          "data": {
            "text/plain": [
              "[{'generated_text': '인공지능 발전으로 반도체 수요가 폭증할 것\"이라며 \"이 중 D램의 매출 비중은 80%에서 40%까지 늘어날 것으로 예상돼 올해 3분기까지 약 15%(반도체 영업이익 포함)의 수익을 예상한다\"고 설명했다.\\nSK하이닉스'}]"
            ]
          },
          "metadata": {},
          "execution_count": 5
        }
      ]
    },
    {
      "cell_type": "code",
      "source": [
        "#200개의 토큰으로 된 문장 만들기\n",
        "kogpt(prompt, max_length=200)"
      ],
      "metadata": {
        "colab": {
          "base_uri": "https://localhost:8080/"
        },
        "id": "uGuU2mNOscGW",
        "outputId": "f62d4dd1-33ce-4318-abb2-1dd2effcf198"
      },
      "execution_count": null,
      "outputs": [
        {
          "output_type": "stream",
          "name": "stderr",
          "text": [
            "Truncation was not explicitly activated but `max_length` is provided a specific value, please use `truncation=True` to explicitly truncate examples to max length. Defaulting to 'longest_first' truncation strategy. If you encode pairs of sequences (GLUE-style) with the tokenizer you can select this strategy more precisely by providing a specific strategy to `truncation`.\n"
          ]
        },
        {
          "output_type": "execute_result",
          "data": {
            "text/plain": [
              "[{'generated_text': '인공지능 발전으로 반도체 수요가 늘며 가격 상승도 이어지고 있다.\\n실제 메모리 반도체 재고 조정에도 공급이 늘어나며 D램 가격이 상승한 데다 D램 가격의 하향세가 계속되고 있다.\\nD램 가격은 지난해 12월 바닥을 찍은 후 1월을 바닥으로 꾸준히 상승하고 있으나 서버용 DDR3와 모바일용 D램 등은 꾸준히 떨어지고 있다.\\n삼성전자 D램익스체인지에 따르면 지난해 11월 중순부터 올해 2월초까지 데이터를 분석한 데 따르면 D램 가격은 평균 10.4% 급등했다.\\n올해 들어서도 이 기간 평균 9.7% 하락했다.\\nPC용 DDR3도 PC용 DDR3와 비슷한 가격대를 유지하고 있다.\\nPC용 DDR3가 7.66달러로 가장 저점을 찍은 뒤 2월 평균이 10.76달러까지 급등한 뒤 3월 9.18달러, 4월에는 10.4달러를 기록했다.\\nD램 가격의 상승세도 가파르다.\\nD램익스체인지는 지난해 말부터 올 2월 초까지 서버용 D램 가격 하락을 주도했던'}]"
            ]
          },
          "metadata": {},
          "execution_count": 6
        }
      ]
    },
    {
      "cell_type": "code",
      "source": [
        "#확률적 디코딩으로 매번 다른 값 출력\n",
        "kogpt(prompt, max_length=200)"
      ],
      "metadata": {
        "colab": {
          "base_uri": "https://localhost:8080/"
        },
        "id": "PeJzkzWLsgER",
        "outputId": "f03b1f57-f1d7-4a9e-8722-910a5e695d3d"
      },
      "execution_count": null,
      "outputs": [
        {
          "output_type": "execute_result",
          "data": {
            "text/plain": [
              "[{'generated_text': '인공지능 발전으로 반도체 수요가 커졌다는 게 삼성전자의 설명이다.\\n삼성의 이런 자신감은 경쟁사인 애플의 점유율이 확대되면서 더욱 빛을 발하게 됐다.\\n삼성전자는 지난해 시장점유율 13%에서 올해 15%로 두 배 가까이 늘릴 예정이다.\\n지난 7월에는 미국 라스베이거스에서 열린 세계 최대 가전쇼 CES ‘CES 2011’에서 인공지능 플랫폼인 ‘빅스비’를 공개한 바 있다.\\n‘빅스비’는 사용자의 뇌파를 감지해 최적화된 학습을 도와주는 것으로 삼성전자의 플랫폼을 사용해 다양한 앱들과 연동된다.\\n삼성전자는 세계 최고 수준의 딥러닝 알고리즘 기술을 기반으로 개발된 소프트웨어를 AI에 적용해 다양한 응용 프로그램을 빠르게 학습함으로써 학습 속도를 향상시켰다는 설명. 또 빅스비로 학습한 데이터를 학습하고 이를 바탕으로 스스로 인공지능 플랫폼인 ‘빅스비’를 구동시켜 학습한다.\\n삼성전자의 인공지능 플랫폼인 빅스비는 오는 6월 선보일'}]"
            ]
          },
          "metadata": {},
          "execution_count": 7
        }
      ]
    },
    {
      "cell_type": "code",
      "source": [
        "#탐욕 탐색\n",
        "kogpt(\n",
        "    prompt,\n",
        "    max_length=200,\n",
        "    do_sample=False\n",
        ")"
      ],
      "metadata": {
        "colab": {
          "base_uri": "https://localhost:8080/"
        },
        "id": "w3VVkRijslwX",
        "outputId": "e1501805-1dfa-48f1-cf51-b901ce6a6091"
      },
      "execution_count": null,
      "outputs": [
        {
          "output_type": "execute_result",
          "data": {
            "text/plain": [
              "[{'generated_text': '인공지능 발전으로 반도체 수요가 급증하고 있다.\\n반도체 업계 관계자는 “반도체 업계 1위인 삼성전자가 올해부터 메모리 반도체 시장 점유율을 늘릴 것으로 예상된다”며 “삼성전자가 메모리 반도체 시장 점유율을 늘릴 수 있는 유일한 방법은 메모리 반도체 시장 점유율 확대”라고 말했다.\\n삼성전자는 올해 메모리 반도체 시장 점유율 목표를 지난해보다 10%포인트 늘어난 50%로 잡았다.\\n삼성전자는 올해 메모리 반도체 시장 점유율 목표를 지난해보다 10%포인트 늘어난 50%로 잡았다.\\n삼성전자는 올해 메모리 반도체 시장 점유율을 지난해보다 10%포인트 늘어난 50%로 잡았다.\\n삼성전자는 올해 메모리 반도체 시장 점유율을 지난해보다 10%포인트 늘어난 50%로 잡았다.\\n삼성전자는 올해 메모리 반도체 시장 점유율을 지난해보다 10%포인트 늘어난 50%로 잡았다.\\n삼성전자는 올해 메모리 반도체 시장 점유율을 지난해보다 10%포인트 늘어난 50%로 잡았다.\\n삼성전자는 올해 메모리 반도체 시장 점유율을 지난'}]"
            ]
          },
          "metadata": {},
          "execution_count": 8
        }
      ]
    },
    {
      "cell_type": "code",
      "source": [
        "#반복 억제\n",
        "kogpt(\n",
        "    prompt,\n",
        "    max_length=200,\n",
        "    do_sample=True,\n",
        "    no_repeat_ngram_size=5 #5개의 연속 토큰이 반복되는것을 방지\n",
        ")"
      ],
      "metadata": {
        "colab": {
          "base_uri": "https://localhost:8080/"
        },
        "id": "6VRpHfZbsw-y",
        "outputId": "4f3a46f5-ba02-45d1-be32-b7de9f6ad8de"
      },
      "execution_count": null,
      "outputs": [
        {
          "output_type": "execute_result",
          "data": {
            "text/plain": [
              "[{'generated_text': '인공지능 발전으로 반도체 수요가 급등했다고 밝혔다.\\n보고서는 \"그동안 반도체 산업은 저점부터 계속 하락할 수밖에 없었지만, 지난해부터 다시 회복하더니 올해 1·4분기 반도체 생산증가율이 -8.4%까지 떨어진 이후 점차 회복하고 있다\"고 평가했다.\\n올해 1·4분기에는 8.2%까지 상승했지만, 하락 추세는 지속됐다고 보고서는 평가했다.\\n저점 대비 하락률(-0.9%)을 포함한 반도체 산업의 반등 징후가 나타나면서 세계 IT 기업들의 수익 개선에는 속도가 붙을 전망이다.\\n이 보고서는 글로벌 IT 기업들에 대한 분석 결과를 공개하지 않았지만, 퀄컴은 지난해 11월까지 시장 전망을 밑도는 실적을 기록했다.\\n퀄컴은 지난 2015년부터 지난해까지 5년 동안 연평균 30% 감소하다가 올해 1·4분기에 20.6% 급감했다.\\n또 팍스콘은 지난해까지 매년 13%씩 증가하다가 올 1·4분기 -16.2%의 매출 감소를 기록했고, 퀄컴은 반도체 시장 불황으로 어려움을 겪었다.\\n하지만 팍스콘'}]"
            ]
          },
          "metadata": {},
          "execution_count": 9
        }
      ]
    },
    {
      "cell_type": "code",
      "source": [
        "#특정 표현 억제\n",
        "from transformers import AutoTokenizer\n",
        "tokenizer = AutoTokenizer.from_pretrained(model_id)\n",
        "bad_token = [[b] for b in tokenizer.encode('메모리 반도체')]\n",
        "\n",
        "#억제할 토큰 등록\n",
        "kogpt(\n",
        "    prompt,\n",
        "    max_length=200,\n",
        "    do_sample=False,\n",
        "    bad_words_ids=bad_token,\n",
        ")"
      ],
      "metadata": {
        "colab": {
          "base_uri": "https://localhost:8080/"
        },
        "id": "iHhRUXzbtTMi",
        "outputId": "c375fbeb-0640-4466-8b47-337cd7870316"
      },
      "execution_count": null,
      "outputs": [
        {
          "output_type": "stream",
          "name": "stderr",
          "text": [
            "/usr/local/lib/python3.10/dist-packages/transformers/tokenization_utils_base.py:1601: FutureWarning: `clean_up_tokenization_spaces` was not set. It will be set to `True` by default. This behavior will be depracted in transformers v4.45, and will be then set to `False` by default. For more details check this issue: https://github.com/huggingface/transformers/issues/31884\n",
            "  warnings.warn(\n"
          ]
        },
        {
          "output_type": "execute_result",
          "data": {
            "text/plain": [
              "[{'generated_text': '인공지능 발전으로 반도체 수요가 급증하고 있다.\\n반도체 업계 관계자는 “반도체 업계 1위인 삼성전자가 올해부터 인공지능(AI) 기반의 AI 플랫폼을 선보일 것”이라며 “삼성전자가 AI 플랫폼을 통해 AI 생태계 확장에 나설 것”이라고 말했다.\\n삼성전자는 지난해 말 AI 플랫폼 ‘빅스비’를 공개한 데 이어 올해 초 AI 플랫폼 ‘빅스비’를 공개했다.\\n빅스비는 AI를 기반으로 한 음성인식 비서 서비스다.\\n빅스비는 음성인식 비서 서비스인 ‘빅스비’를 기반으로 한다.\\n빅스비는 음성인식 비서 서비스인 ‘빅스비’를 기반으로 한다.\\n빅스비는 음성인식 비서 서비스인 ‘빅스비’를 기반으로 한다.\\n빅스비는 음성인식 비서 서비스인 ‘빅스비’를 기반으로 한다.\\n빅스비는 음성인식 비서 서비스인 ‘빅스비’를 기반으로 한다.\\n빅스비는 음성인식 비서 서비스인 ‘빅'}]"
            ]
          },
          "metadata": {},
          "execution_count": 10
        }
      ]
    },
    {
      "cell_type": "code",
      "source": [
        "#빔 탐색\n",
        "kogpt(\n",
        "    prompt,\n",
        "    max_length=200,\n",
        "    num_beams=3,\n",
        ")"
      ],
      "metadata": {
        "colab": {
          "base_uri": "https://localhost:8080/"
        },
        "id": "8tORzFj7ttCV",
        "outputId": "6c95cf41-d070-407b-f013-a738674d1817"
      },
      "execution_count": null,
      "outputs": [
        {
          "output_type": "execute_result",
          "data": {
            "text/plain": [
              "[{'generated_text': '인공지능 발전으로 반도체 수요가 늘면서 삼성전자와 SK하이닉스의 올해 영업이익이 전년 대비 각각 6%, 8% 증가할 것으로 전망했다.\\nSK하이닉스는 올해 영업이익이 지난해보다 9% 증가한 9조8000억원을 기록할 것으로 내다봤다.\\nSK하이닉스는 올해 D램과 낸드플래시 등 메모리반도체 수요가 증가할 것으로 예상했다.\\nSK하이닉스는 올해 D램과 낸드플래시 등 메모리반도체 수요 증가에 힘입어 영업이익이 지난해보다 9% 늘어난 9조3000억원을 기록할 것으로 전망했다.\\nSK하이닉스는 올해 D램과 낸드플래시 등 메모리반도체 수요가 전년 대비 각각 10%, 11% 증가할 것으로 예상했다.\\nSK하이닉스는 올해 D램과 낸드플래시 등 메모리반도체 수요 증가에 힘입어 영업이익이 지난해보다 8% 증가한 9조8000억원을 기록할 것으로 내다봤'}]"
            ]
          },
          "metadata": {},
          "execution_count": 11
        }
      ]
    },
    {
      "cell_type": "code",
      "source": [
        "#top-k\n",
        "kogpt(\n",
        "    prompt,\n",
        "    max_length=200,\n",
        "    num_beams=5,\n",
        "    top_k=10,\n",
        ")"
      ],
      "metadata": {
        "colab": {
          "base_uri": "https://localhost:8080/"
        },
        "id": "KQxihLnjtzBr",
        "outputId": "82f157fe-456e-4fdd-de57-ab767d2f9ab1"
      },
      "execution_count": null,
      "outputs": [
        {
          "output_type": "execute_result",
          "data": {
            "text/plain": [
              "[{'generated_text': '인공지능 발전으로 반도체 수요가 급증할 것으로 예상된다\"며 \"삼성전자와 SK하이닉스 등 메모리반도체 업체의 수혜가 예상된다\"고 분석했다.\\n이 연구원은 \"삼성전자와 SK하이닉스 등 메모리반도체 업체의 수혜가 예상된다\"며 \"SK하이닉스의 경우 D램과 낸드플래시 등 메모리반도체 수요 증가에 따른 수혜가 예상된다\"고 설명했다.\\n그는 \"SK하이닉스의 경우 D램과 낸드플래시 등 메모리반도체 수요 증가에 따른 수혜가 예상된다\"며 \"SK하이닉스의 경우 D램과 낸드플래시 등 메모리반도체 수요 증가에 따른 수혜가 예상된다\"고 덧붙였다.\\n이 연구원은 \"SK하이닉스의 경우 D램과 낸드플래시 등 메모리반도체 수요 증가에 따른 수혜가 예상된다\"며 \"SK하이닉스의 경우 D램과 낸드플래'}]"
            ]
          },
          "metadata": {},
          "execution_count": 12
        }
      ]
    },
    {
      "cell_type": "code",
      "source": [
        "#top-p\n",
        "kogpt(\n",
        "    prompt,\n",
        "    max_length=200,\n",
        "    num_beams=5,\n",
        "    top_p=0.5\n",
        ")"
      ],
      "metadata": {
        "colab": {
          "base_uri": "https://localhost:8080/"
        },
        "id": "nmhVfPqluABE",
        "outputId": "819f0d4c-0851-4992-d457-5f56a1275f28"
      },
      "execution_count": null,
      "outputs": [
        {
          "output_type": "execute_result",
          "data": {
            "text/plain": [
              "[{'generated_text': '인공지능 발전으로 반도체 수요가 급증하고 있다.\\n삼성전자와 SK하이닉스 등 국내 주요 반도체 업체들은 올해 반도체 설비투자를 지난해보다 10% 이상 늘릴 계획이다.\\n반도체 업계 관계자는 “반도체 업계 1위인 삼성전자와 SK하이닉스가 올해 반도체 설비투자를 지난해보다 10% 이상 늘릴 계획”이라며 “반도체 업계 1위인 삼성전자와 SK하이닉스가 올해 반도체 설비투자를 지난해보다 10% 이상 늘릴 것으로 예상된다”고 말했다.\\n반도체 업계 1위인 삼성전자와 SK하이닉스는 올해 반도체 설비투자를 지난해보다 10% 이상 늘릴 계획이다.\\n삼성전자와 SK하이닉스는 올해 반도체 설비투자를 지난해보다 10% 이상 늘릴 계획이다.\\nSK하이닉스는 올해 반도체 설비투자를 지난해보다 10% 이상 늘릴 계획이다.\\nSK하이닉스는 올해 반도체 설비투자를 지난해보다 10% 이상 늘릴 계획이다.\\n'}]"
            ]
          },
          "metadata": {},
          "execution_count": 16
        }
      ]
    },
    {
      "cell_type": "code",
      "source": [
        "#온도\n",
        "#온도를 낮추면 확률이 높은 방향으로 안정적으로 생성\n",
        "kogpt(\n",
        "    prompt,\n",
        "    max_length=200,\n",
        "    temperature=0.7\n",
        ")"
      ],
      "metadata": {
        "colab": {
          "base_uri": "https://localhost:8080/"
        },
        "id": "2mit54fpuFKN",
        "outputId": "df39db47-141d-461c-913a-ca7acfa83b7a"
      },
      "execution_count": null,
      "outputs": [
        {
          "output_type": "execute_result",
          "data": {
            "text/plain": [
              "[{'generated_text': '인공지능 발전으로 반도체 수요가 급격히 늘고 있다”며 “반도체 업황 개선으로 인한 수혜가 기대된다”고 설명했다.\\n아울러 “2015년부터는 인텔의 낸드 플래시 메모리 반도체 수요도 동반 상승할 것으로 예상된다”며 “삼성전자는 올해 D램을 중심으로 낸드플래시 수요가 꾸준히 증가할 것”이라고 내다봤다. 국내 대기업들이 최근 몇 년 사이 새로운 사업에 뛰어들면서 새로운 기술을 확보하기 위해 끊임없이 연구 개발에 나서고 있다.\\n이러한 움직임은 국내 전자 산업에 새로운 활력을 불어넣는 역할을 하고 있다.\\n국내 전자 업계는 그동안 기술개발을 통해 시장을 주도해 왔다.\\n하지만 최근에는 새로운 사업 영역에 대한 경쟁력 확보가 더욱 중요해졌다.\\n이러한 상황에서 국내 대기업들은 기존 사업 영역인 정보기술(IT) 부문에서 경쟁력을 강화하는 동시에 서비스와 솔루션 분야에 대한 새로운 사업 모델을 발굴해 새로운 시장을 창출하고 있다.\\n국내 전자 업계는 이 같은 변화를 주도하기 위해 새로운 사업을 발굴하고 있다.\\n삼성전자는 올해 초 국내 최초로 스마트폰에'}]"
            ]
          },
          "metadata": {},
          "execution_count": 17
        }
      ]
    },
    {
      "cell_type": "code",
      "source": [
        "# 온도를 높이면 다양하고 창의적인 표현 생성(말이 안될 수 있음)\n",
        "kogpt(\n",
        "    prompt,\n",
        "    max_length=200,\n",
        "    temperature=2.0\n",
        ")"
      ],
      "metadata": {
        "colab": {
          "base_uri": "https://localhost:8080/"
        },
        "id": "ka_LuibhuamX",
        "outputId": "d87a01a9-a0d4-4fa9-ef47-0ec6e67e53bc"
      },
      "execution_count": null,
      "outputs": [
        {
          "output_type": "execute_result",
          "data": {
            "text/plain": [
              "[{'generated_text': '인공지능 발전으로 반도체 수요가 급격히 늘었고 이에 대비할 수 있도록 SW 인스트럭쳐를 새로 만드는 작업이 한창이다.\\n하지만 최근 코로나19까지 번지자 결국 연구개발에 눈을 돌리는 기업이 점점 늘고 있다.\\n미래 핵심 기술을 찾기 어려운 만큼 앞으로가 촉난파 연구 성과도 기대할 만해졌다.\\n120여개에 달하는 국내 최대 실리콘 관련 연구소들이 코로나바이러스 감염증으로 어려움을 느끼는 가운데 세계 유일의 나노신생에너지 분야 연구중심으로 자리매김을 준비하면서 실리콘 분야 전문 기업으로 그 위상을 굳힐 전망이다.\\n인공신경화학 분야에서 두각을 나타내고 있는 포스(IT·기업지)사이클 대표 박종록 대표이사(48·사지공일경연구원 부총리 겸 국가경쟁력강화특위원)는 미래 신사업은 기술이나 서비스에 그치는 것이 결코 아니라고 강조한다.\\n기술 개발이 어려운 분야에서 먼저 혁신적인 가치를 가진 솔루션을 개발하고 다양한 융합과 새로운 서비스를 개발해 시장의 판을 넓혀 나간다는 것. 박사급 박사급 기술 인력과 개발인력, 전문 기술 노하우가 합쳐지면 기술 경쟁력도 획기적으로'}]"
            ]
          },
          "metadata": {},
          "execution_count": 18
        }
      ]
    },
    {
      "cell_type": "code",
      "source": [
        "#온도를 이용한 반복 억제\n",
        "kogpt(\n",
        "    prompt,\n",
        "    max_length=200,\n",
        "    repetition_penalty=2.0\n",
        ")"
      ],
      "metadata": {
        "colab": {
          "base_uri": "https://localhost:8080/"
        },
        "id": "hr8cyipLuhKC",
        "outputId": "0142686a-931d-42f7-b7e8-077711c30d85"
      },
      "execution_count": null,
      "outputs": [
        {
          "output_type": "execute_result",
          "data": {
            "text/plain": [
              "[{'generated_text': '인공지능 발전으로 반도체 수요가 늘어날 것이라는 전망이 나오면서 관련주들이 일제히 상승 마감했다.\\n2·4분기 매출액과 영업이익은 각각 1336억원과 267억원이다.\\n삼성 SDI 삼성전기와 아모레퍼시픽 LG화학 등 시가총액 상위 10위권 내 종목 대부분이 올랐다.\\n코스닥 지수는 0.76포인트(0.10%) 오른 531.28로 출발했다.\\n외국인과 기관은 매수 우위를 보이고 개인은 매도 우위로 장을 마쳤다.\\n서울 외환시장에서 원·달러 환율은 2.80원(0.13%) 내린 1,335.59원에 거래를 시작했다. 한국무역협회 국제무역연구원은 15일 발간한 ‘2019년 12월 수출물량 동향’에서 \"올해 연간 총수출액이 역대 최대규모인 6401만 달러에 달할 것으로 예상되나, 지난해(5868만t)보다 20% 늘어난 5269만여 톤으로 다소 증가할 것\"이라며 이같이 분석했다고 밝혔다.\\n품목별 증가 폭은 TV(11452t)가 1179.8%로 가장 많았고 승용차(5920.7'}]"
            ]
          },
          "metadata": {},
          "execution_count": 20
        }
      ]
    },
    {
      "cell_type": "code",
      "source": [
        "#대조 탐색\n",
        "kogpt(\n",
        "    prompt,\n",
        "    max_length=200,\n",
        "    penalty_alpha=0.5 #유사도에 대한 가중치로 높을 수록 비슷한 토큰의 출현을 억제\n",
        ")"
      ],
      "metadata": {
        "colab": {
          "base_uri": "https://localhost:8080/"
        },
        "id": "G8YcMbWcukWd",
        "outputId": "abc1e9d4-12c7-43f1-9864-795383b4b6f6"
      },
      "execution_count": null,
      "outputs": [
        {
          "output_type": "execute_result",
          "data": {
            "text/plain": [
              "[{'generated_text': '인공지능 발전으로 반도체 수요가 증가할 것으로 판단하고 있다.\\n아울러 반도체 산업의 성장세라면 향후에도 수혜가 예상된다는 설명이다.\\nKTB투자증권은 하이닉스, SK하이닉스, NHN이 지난해에 이어 올해도 업황 개선 추세를 나타낼 것으로 전망했다.\\n김병연 KTB투자증권 수석연구원은 “상반기 메모리 부문의 계절적 비수기 진입으로 인해 D램과 낸드플래시 업황에 대한 전망이 밝지 않다”며 “하반기가 되면 업황이 나아질 것”이라고 분석했다.\\n이어 “지난해 하반기 이후 업황 개선으로 D램 가격 강세가 유지되고, 낸드플래시 업황은 상반기보다 개선될 것”이라며 “낸드플래시는 수요가 지속적으로 증대해 업황이 호조세를 보이고 있다”고 설명했다.\\n김 연구원은 “내년 하반기 삼성전자가 갤럭시S6, 아이폰SE 등 플래시 제품을 출시하고, 글로벌 낸드플래시'}]"
            ]
          },
          "metadata": {},
          "execution_count": 21
        }
      ]
    },
    {
      "cell_type": "code",
      "source": [],
      "metadata": {
        "id": "EPFwbxnlvGMn"
      },
      "execution_count": null,
      "outputs": []
    }
  ]
}